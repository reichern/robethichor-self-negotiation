{
 "cells": [
  {
   "cell_type": "code",
   "execution_count": 1,
   "id": "1327a651",
   "metadata": {},
   "outputs": [],
   "source": [
    "import re\n",
    "import pandas as pd\n",
    "import matplotlib.pyplot as plt"
   ]
  },
  {
   "cell_type": "code",
   "execution_count": 2,
   "id": "1c13822a",
   "metadata": {},
   "outputs": [
    {
     "data": {
      "text/html": [
       "<div>\n",
       "<style scoped>\n",
       "    .dataframe tbody tr th:only-of-type {\n",
       "        vertical-align: middle;\n",
       "    }\n",
       "\n",
       "    .dataframe tbody tr th {\n",
       "        vertical-align: top;\n",
       "    }\n",
       "\n",
       "    .dataframe thead th {\n",
       "        text-align: right;\n",
       "    }\n",
       "</style>\n",
       "<table border=\"1\" class=\"dataframe\">\n",
       "  <thead>\n",
       "    <tr style=\"text-align: right;\">\n",
       "      <th></th>\n",
       "      <th>A</th>\n",
       "      <th>B</th>\n",
       "      <th>C</th>\n",
       "      <th>D</th>\n",
       "      <th>E</th>\n",
       "      <th>F</th>\n",
       "      <th>G</th>\n",
       "      <th>H</th>\n",
       "      <th>I</th>\n",
       "      <th>J</th>\n",
       "    </tr>\n",
       "  </thead>\n",
       "  <tbody>\n",
       "    <tr>\n",
       "      <th>A</th>\n",
       "      <td>--</td>\n",
       "      <td>A</td>\n",
       "      <td>C</td>\n",
       "      <td>--</td>\n",
       "      <td>--</td>\n",
       "      <td>F</td>\n",
       "      <td>G</td>\n",
       "      <td>--</td>\n",
       "      <td>--</td>\n",
       "      <td>J</td>\n",
       "    </tr>\n",
       "    <tr>\n",
       "      <th>B</th>\n",
       "      <td>A</td>\n",
       "      <td>--</td>\n",
       "      <td>--</td>\n",
       "      <td>D</td>\n",
       "      <td>B</td>\n",
       "      <td>F</td>\n",
       "      <td>G</td>\n",
       "      <td>B</td>\n",
       "      <td>B</td>\n",
       "      <td>--</td>\n",
       "    </tr>\n",
       "    <tr>\n",
       "      <th>C</th>\n",
       "      <td>C</td>\n",
       "      <td>--</td>\n",
       "      <td>--</td>\n",
       "      <td>C</td>\n",
       "      <td>C</td>\n",
       "      <td>C</td>\n",
       "      <td>G</td>\n",
       "      <td>C</td>\n",
       "      <td>C</td>\n",
       "      <td>--</td>\n",
       "    </tr>\n",
       "    <tr>\n",
       "      <th>D</th>\n",
       "      <td>--</td>\n",
       "      <td>D</td>\n",
       "      <td>C</td>\n",
       "      <td>--</td>\n",
       "      <td>--</td>\n",
       "      <td>F</td>\n",
       "      <td>G</td>\n",
       "      <td>D</td>\n",
       "      <td>--</td>\n",
       "      <td>J</td>\n",
       "    </tr>\n",
       "    <tr>\n",
       "      <th>E</th>\n",
       "      <td>--</td>\n",
       "      <td>B</td>\n",
       "      <td>C</td>\n",
       "      <td>--</td>\n",
       "      <td>--</td>\n",
       "      <td>E</td>\n",
       "      <td>G</td>\n",
       "      <td>--</td>\n",
       "      <td>--</td>\n",
       "      <td>J</td>\n",
       "    </tr>\n",
       "  </tbody>\n",
       "</table>\n",
       "</div>"
      ],
      "text/plain": [
       "    A   B   C   D   E  F  G   H   I   J\n",
       "A  --   A   C  --  --  F  G  --  --   J\n",
       "B   A  --  --   D   B  F  G   B   B  --\n",
       "C   C  --  --   C   C  C  G   C   C  --\n",
       "D  --   D   C  --  --  F  G   D  --   J\n",
       "E  --   B   C  --  --  E  G  --  --   J"
      ]
     },
     "execution_count": 2,
     "metadata": {},
     "output_type": "execute_result"
    }
   ],
   "source": [
    "# read ground truth data\n",
    "data = []\n",
    "\n",
    "ground_truth_file_path = '../results/ground_truth.csv'\n",
    "\n",
    "df_gt = pd.read_csv(ground_truth_file_path,index_col=0)\n",
    "df_gt.head()"
   ]
  },
  {
   "cell_type": "code",
   "execution_count": 6,
   "id": "e8327894",
   "metadata": {},
   "outputs": [
    {
     "data": {
      "text/html": [
       "<div>\n",
       "<style scoped>\n",
       "    .dataframe tbody tr th:only-of-type {\n",
       "        vertical-align: middle;\n",
       "    }\n",
       "\n",
       "    .dataframe tbody tr th {\n",
       "        vertical-align: top;\n",
       "    }\n",
       "\n",
       "    .dataframe thead th {\n",
       "        text-align: right;\n",
       "    }\n",
       "</style>\n",
       "<table border=\"1\" class=\"dataframe\">\n",
       "  <thead>\n",
       "    <tr style=\"text-align: right;\">\n",
       "      <th></th>\n",
       "      <th>current_user</th>\n",
       "      <th>interrupting_user</th>\n",
       "      <th>rounds</th>\n",
       "      <th>preparation_time</th>\n",
       "      <th>negotiation_time</th>\n",
       "      <th>result</th>\n",
       "    </tr>\n",
       "  </thead>\n",
       "  <tbody>\n",
       "    <tr>\n",
       "      <th>0</th>\n",
       "      <td>A</td>\n",
       "      <td>B</td>\n",
       "      <td>2</td>\n",
       "      <td>1.023</td>\n",
       "      <td>0.031</td>\n",
       "      <td>current</td>\n",
       "    </tr>\n",
       "    <tr>\n",
       "      <th>1</th>\n",
       "      <td>A</td>\n",
       "      <td>C</td>\n",
       "      <td>3</td>\n",
       "      <td>1.005</td>\n",
       "      <td>0.023</td>\n",
       "      <td>interrupting</td>\n",
       "    </tr>\n",
       "    <tr>\n",
       "      <th>2</th>\n",
       "      <td>A</td>\n",
       "      <td>D</td>\n",
       "      <td>4</td>\n",
       "      <td>1.004</td>\n",
       "      <td>0.022</td>\n",
       "      <td>no-agreement</td>\n",
       "    </tr>\n",
       "    <tr>\n",
       "      <th>3</th>\n",
       "      <td>A</td>\n",
       "      <td>E</td>\n",
       "      <td>4</td>\n",
       "      <td>1.005</td>\n",
       "      <td>0.022</td>\n",
       "      <td>no-agreement</td>\n",
       "    </tr>\n",
       "    <tr>\n",
       "      <th>4</th>\n",
       "      <td>A</td>\n",
       "      <td>F</td>\n",
       "      <td>3</td>\n",
       "      <td>1.005</td>\n",
       "      <td>0.022</td>\n",
       "      <td>interrupting</td>\n",
       "    </tr>\n",
       "  </tbody>\n",
       "</table>\n",
       "</div>"
      ],
      "text/plain": [
       "  current_user interrupting_user  rounds  preparation_time  negotiation_time  \\\n",
       "0            A                 B       2             1.023             0.031   \n",
       "1            A                 C       3             1.005             0.023   \n",
       "2            A                 D       4             1.004             0.022   \n",
       "3            A                 E       4             1.005             0.022   \n",
       "4            A                 F       3             1.005             0.022   \n",
       "\n",
       "         result  \n",
       "0       current  \n",
       "1  interrupting  \n",
       "2  no-agreement  \n",
       "3  no-agreement  \n",
       "4  interrupting  "
      ]
     },
     "execution_count": 6,
     "metadata": {},
     "output_type": "execute_result"
    }
   ],
   "source": [
    "# read real data from test run\n",
    "data = []\n",
    "\n",
    "# pattern = r'Users: (?P<current_user>.)(?P<interrupting_user>.). Gazebo: (?P<gazebo>\\S+). Negotiation rounds: (?P<rounds>\\d+). Preparation time: (?P<prep_time>\\d+\\.\\d+) seconds. Negotiation time: (?P<time>\\d+\\.\\d+) seconds. (?P<result>\\S+)'\n",
    "pattern = r'Users: (?P<current_user>.)(?P<interrupting_user>.). Gazebo: (?P<gazebo>\\S+). Negotiation rounds: (?P<rounds>\\d+). Preparation time: (?P<prep_time>\\d+\\.\\d+) seconds. Negotiation time: (?P<time>\\d+\\.\\d+) seconds. Result: (?P<result>\\S+)'\n",
    "\n",
    "log_file_path = '../results/task_progress.log'\n",
    "\n",
    "# for log_file_path in sim_files:\n",
    "with open(log_file_path, 'r') as file:\n",
    "    for line in file:\n",
    "        match = re.search(pattern, line)\n",
    "        if match:\n",
    "            current_user = match.group(\"current_user\")\n",
    "            interrupting_user = match.group(\"interrupting_user\")\n",
    "            gazebo = bool(match.group(\"gazebo\")) \n",
    "            rounds = int(match.group(\"rounds\")) // 2 + (int(match.group(\"rounds\")) % 2 > 0)\n",
    "            time = float(match.group(\"time\"))\n",
    "            prep_time = float(match.group(\"prep_time\"))\n",
    "            result = match.group(\"result\").lower()\n",
    "\n",
    "            # if not gazebo:\n",
    "            data.append({\"current_user\": current_user, \"interrupting_user\": interrupting_user, \"rounds\": rounds, \"preparation_time\": prep_time, \"negotiation_time\": time, \"result\": result})\n",
    "        else:\n",
    "            print(\"Diverging result: \")\n",
    "            print(line)\n",
    "df_rd = pd.DataFrame(data)\n",
    "df_rd.head()"
   ]
  },
  {
   "cell_type": "code",
   "execution_count": 7,
   "id": "977b5f56",
   "metadata": {},
   "outputs": [
    {
     "name": "stdout",
     "output_type": "stream",
     "text": [
      "Differing outcome! current user: B, interrupting user: A\n",
      "Differing outcome! current user: C, interrupting user: G\n",
      "Differing outcome! current user: D, interrupting user: J\n",
      "Differing outcome! current user: F, interrupting user: E\n",
      "Differing outcome! current user: H, interrupting user: B\n",
      "Differing outcome! current user: H, interrupting user: D\n",
      "Differing outcome! current user: H, interrupting user: J\n",
      "Negotiations with expected outcome:  83\n",
      "Negotiations with differing outcome:  7\n",
      "Percentage of negotiation with expected outcome:  92.22222222222223 %\n"
     ]
    }
   ],
   "source": [
    "# validation: check whether negotiation had expected outcome!\n",
    "expected_outcome, differing_outcome = [],[]\n",
    "for index, row in df_rd.iterrows():\n",
    "    expected = df_gt.at[row[\"current_user\"],row[\"interrupting_user\"]]\n",
    "    if (row[\"result\"] == \"current\" and expected == row[\"current_user\"]) or (row[\"result\"] == \"interrupting\" and expected == row[\"interrupting_user\"]) or (row[\"result\"] == \"no-agreement\" and expected == \"--\"):\n",
    "        expected_outcome.append(expected)\n",
    "    else:\n",
    "        print(f\"Differing outcome! current user: {row[\"current_user\"]}, interrupting user: {row[\"interrupting_user\"]}\")\n",
    "        differing_outcome.append((row[\"result\"],expected))\n",
    "\n",
    "print(\"Negotiations with expected outcome: \", len(expected_outcome))\n",
    "print(\"Negotiations with differing outcome: \", len(differing_outcome))\n",
    "print(\"Percentage of negotiation with expected outcome: \", len(expected_outcome)/(len(expected_outcome)+len(differing_outcome))*100, \"%\")"
   ]
  },
  {
   "cell_type": "code",
   "execution_count": 8,
   "id": "33cad218",
   "metadata": {},
   "outputs": [
    {
     "data": {
      "image/png": "[encoded data removed]",
      "text/plain": [
       "<Figure size 640x480 with 1 Axes>"
      ]
     },
     "metadata": {},
     "output_type": "display_data"
    }
   ],
   "source": [
    "# analyze percentage of agreement vs non-agreement\n",
    "no_agreement = df_rd.loc[df_rd[\"result\"] == \"no-agreement\"]\n",
    "current = df_rd.loc[df_rd[\"result\"] == \"current\"]\n",
    "interrupting = df_rd.loc[df_rd[\"result\"] == \"interrupting\"]\n",
    "\n",
    "plt.pie([(len(current) + len(interrupting))/90, len(no_agreement)/90], labels = [\"agreement\", \"no agreement\"], autopct='%1.1f%%')\n",
    "# plt.legend()\n",
    "plt.show()"
   ]
  },
  {
   "cell_type": "code",
   "execution_count": 9,
   "id": "77787318",
   "metadata": {},
   "outputs": [
    {
     "name": "stdout",
     "output_type": "stream",
     "text": [
      "\n"
     ]
    },
    {
     "data": {
      "image/png": "[encoded data removed]",
      "text/plain": [
       "<Figure size 640x480 with 1 Axes>"
      ]
     },
     "metadata": {},
     "output_type": "display_data"
    }
   ],
   "source": [
    "# analyze percentage of agreement vs non-agreement\n",
    "no_agreement = df_rd.loc[df_rd[\"result\"] == \"no-agreement\"]\n",
    "current = df_rd.loc[df_rd[\"result\"] == \"current\"]\n",
    "interrupting = df_rd.loc[df_rd[\"result\"] == \"interrupting\"]\n",
    "\n",
    "print()\n",
    "plt.pie([len(interrupting)/90,(len(current) + len(no_agreement))/90], labels = [\"interrupting user gets precedence\", \"continue with current user\"], autopct='%1.1f%%')\n",
    "# plt.legend()\n",
    "plt.show()"
   ]
  },
  {
   "cell_type": "code",
   "execution_count": 16,
   "id": "0b0739e7",
   "metadata": {},
   "outputs": [
    {
     "name": "stdout",
     "output_type": "stream",
     "text": [
      "results with switched roles are not consistent!\n",
      "users: A,B\n",
      "assignment1: current, assignment2: no-agreement\n",
      "results with switched roles are not consistent!\n",
      "users: B,H\n",
      "assignment1: current, assignment2: no-agreement\n",
      "results with switched roles are not consistent!\n",
      "users: C,G\n",
      "assignment1: no-agreement, assignment2: current\n",
      "results with switched roles are not consistent!\n",
      "users: D,H\n",
      "assignment1: current, assignment2: no-agreement\n",
      "results with switched roles are not consistent!\n",
      "users: D,J\n",
      "assignment1: no-agreement, assignment2: current\n",
      "results with switched roles are not consistent!\n",
      "users: E,F\n",
      "assignment1: current, assignment2: no-agreement\n",
      "results with switched roles are not consistent!\n",
      "users: H,J\n",
      "assignment1: no-agreement, assignment2: current\n"
     ]
    }
   ],
   "source": [
    "users_list = df_rd[\"current_user\"].unique()\n",
    "users_interrupting_list = df_rd[\"interrupting_user\"].unique()\n",
    "\n",
    "pairs = []\n",
    "\n",
    "for u1 in users_list:\n",
    "    if u1 not in users_interrupting_list:\n",
    "        print(f\"user {u1} is not in interrupting users list!!\")\n",
    "    for u2 in users_list:\n",
    "        if u1 == u2 : continue\n",
    "        assignment1 = df_rd.loc[(df_rd[\"current_user\"]==u1) & (df_rd[\"interrupting_user\"]==u2)][\"result\"].item()\n",
    "        assignment2 = df_rd.loc[(df_rd[\"current_user\"]==u2) & (df_rd[\"interrupting_user\"]==u1)][\"result\"].item()\n",
    "        if assignment1 == \"no-agreement\" and assignment2 == \"no-agreement\" or assignment1 == \"current\" and assignment2 == \"interrupting\" or assignment1 == \"interrupting\" and assignment2 == \"current\":\n",
    "            continue\n",
    "        if not (u1,u2) in pairs and  not (u2,u1) in pairs: \n",
    "            print(\"results with switched roles are not consistent!\")\n",
    "            print(f\"users: {u1},{u2}\")\n",
    "            print(f\"assignment1: {assignment1}, assignment2: {assignment2}\")\n",
    "            pairs.append((u1,u2))\n"
   ]
  }
 ],
 "metadata": {
  "kernelspec": {
   "display_name": "Python 3",
   "language": "python",
   "name": "python3"
  },
  "language_info": {
   "codemirror_mode": {
    "name": "ipython",
    "version": 3
   },
   "file_extension": ".py",
   "mimetype": "text/x-python",
   "name": "python",
   "nbconvert_exporter": "python",
   "pygments_lexer": "ipython3",
   "version": "3.12.10"
  }
 },
 "nbformat": 4,
 "nbformat_minor": 5
}
